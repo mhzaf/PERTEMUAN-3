{
  "nbformat": 4,
  "nbformat_minor": 0,
  "metadata": {
    "colab": {
      "name": "DataPreprocessing.ipynb",
      "provenance": [],
      "collapsed_sections": [],
      "toc_visible": true
    },
    "kernelspec": {
      "name": "python3",
      "display_name": "Python 3"
    }
  },
  "cells": [
    {
      "cell_type": "code",
      "metadata": {
        "id": "P8ap81SW7hhr"
      },
      "source": [
        "import numpy as np\n",
        "import matplotlib.pyplot as plt\n",
        "import pandas as pd"
      ],
      "execution_count": 578,
      "outputs": []
    },
    {
      "cell_type": "markdown",
      "metadata": {
        "id": "TkQvCNMs8vPh"
      },
      "source": [
        "numpy -> olah numerik\n",
        "pandas -> import external file"
      ]
    },
    {
      "cell_type": "code",
      "metadata": {
        "id": "wBzuZy_d8p8w"
      },
      "source": [
        "dataset = pd.read_csv('Ehe.csv')\n",
        "x = dataset.iloc[:, :-1].values\n",
        "y = dataset.iloc[:, -1].values"
      ],
      "execution_count": 579,
      "outputs": []
    },
    {
      "cell_type": "markdown",
      "metadata": {
        "id": "2blbfjMA9wc6"
      },
      "source": [
        ": -> semua data\n",
        "[baris, kolom]"
      ]
    },
    {
      "cell_type": "code",
      "metadata": {
        "colab": {
          "base_uri": "https://localhost:8080/"
        },
        "id": "Q5ABJCtD9u4z",
        "outputId": "ea0cb197-e778-432e-e2d7-47374638f02d"
      },
      "source": [
        "print(x)"
      ],
      "execution_count": 580,
      "outputs": [
        {
          "output_type": "stream",
          "text": [
            "[['Indonesia' 27 72000]\n",
            " ['India' 29 48000]\n",
            " ['Russia' 30 54000]\n",
            " ['Slovakia' 32 61000]\n",
            " ['Togo' 31 45000]\n",
            " ['Spain' 25 50000]\n",
            " ['Toga' 28 52000]\n",
            " ['France' 28 79000]\n",
            " ['Russia' 42 83000]\n",
            " ['India' 35 67000]]\n"
          ],
          "name": "stdout"
        }
      ]
    },
    {
      "cell_type": "code",
      "metadata": {
        "colab": {
          "base_uri": "https://localhost:8080/"
        },
        "id": "yXXb2XCb-Qk7",
        "outputId": "2110cf6b-446c-421e-a73f-35d8a956c231"
      },
      "source": [
        "print(y)"
      ],
      "execution_count": 581,
      "outputs": [
        {
          "output_type": "stream",
          "text": [
            "['Yes' 'Yes' 'Yes' 'No' 'No' 'No' 'No' 'Yes' 'Yes' 'No']\n"
          ],
          "name": "stdout"
        }
      ]
    },
    {
      "cell_type": "code",
      "metadata": {
        "id": "k_N-2FaP_6ot"
      },
      "source": [
        "from sklearn.impute import SimpleImputer\n",
        "imputer = SimpleImputer(missing_values = np.nan, strategy='mean')\n",
        "imputer.fit(x[:, 1:3])\n",
        "x[:, 1:3] = imputer.transform(x[:, 1:3])"
      ],
      "execution_count": 582,
      "outputs": []
    },
    {
      "cell_type": "code",
      "metadata": {
        "id": "ovnYypgKBJTI",
        "colab": {
          "base_uri": "https://localhost:8080/"
        },
        "outputId": "0322d945-cab6-41cb-82ca-cf959cbcc704"
      },
      "source": [
        "print(x)"
      ],
      "execution_count": 583,
      "outputs": [
        {
          "output_type": "stream",
          "text": [
            "[['Indonesia' 27.0 72000.0]\n",
            " ['India' 29.0 48000.0]\n",
            " ['Russia' 30.0 54000.0]\n",
            " ['Slovakia' 32.0 61000.0]\n",
            " ['Togo' 31.0 45000.0]\n",
            " ['Spain' 25.0 50000.0]\n",
            " ['Toga' 28.0 52000.0]\n",
            " ['France' 28.0 79000.0]\n",
            " ['Russia' 42.0 83000.0]\n",
            " ['India' 35.0 67000.0]]\n"
          ],
          "name": "stdout"
        }
      ]
    },
    {
      "cell_type": "code",
      "metadata": {
        "id": "ICRnfgzJByAC"
      },
      "source": [
        "from sklearn.compose import ColumnTransformer\n",
        "from sklearn.preprocessing import OneHotEncoder\n",
        "ct = ColumnTransformer(transformers = [('encoder', OneHotEncoder(), [0])], remainder = 'passthrough')\n",
        "x = np.array(ct.fit_transform(x))"
      ],
      "execution_count": 584,
      "outputs": []
    },
    {
      "cell_type": "code",
      "metadata": {
        "id": "JgCJM-ppDTgY",
        "colab": {
          "base_uri": "https://localhost:8080/"
        },
        "outputId": "ebcdae05-c76e-42a4-bf3d-ce5629b4d17b"
      },
      "source": [
        "print(x)"
      ],
      "execution_count": 585,
      "outputs": [
        {
          "output_type": "stream",
          "text": [
            "[[0.0 0.0 1.0 0.0 0.0 0.0 0.0 0.0 27.0 72000.0]\n",
            " [0.0 1.0 0.0 0.0 0.0 0.0 0.0 0.0 29.0 48000.0]\n",
            " [0.0 0.0 0.0 1.0 0.0 0.0 0.0 0.0 30.0 54000.0]\n",
            " [0.0 0.0 0.0 0.0 1.0 0.0 0.0 0.0 32.0 61000.0]\n",
            " [0.0 0.0 0.0 0.0 0.0 0.0 0.0 1.0 31.0 45000.0]\n",
            " [0.0 0.0 0.0 0.0 0.0 1.0 0.0 0.0 25.0 50000.0]\n",
            " [0.0 0.0 0.0 0.0 0.0 0.0 1.0 0.0 28.0 52000.0]\n",
            " [1.0 0.0 0.0 0.0 0.0 0.0 0.0 0.0 28.0 79000.0]\n",
            " [0.0 0.0 0.0 1.0 0.0 0.0 0.0 0.0 42.0 83000.0]\n",
            " [0.0 1.0 0.0 0.0 0.0 0.0 0.0 0.0 35.0 67000.0]]\n"
          ],
          "name": "stdout"
        }
      ]
    },
    {
      "cell_type": "code",
      "metadata": {
        "id": "n7cIaEjaD3Ge"
      },
      "source": [
        "from sklearn.preprocessing import LabelEncoder\n",
        "le = LabelEncoder()\n",
        "y = le.fit_transform(y)"
      ],
      "execution_count": 586,
      "outputs": []
    },
    {
      "cell_type": "code",
      "metadata": {
        "id": "GNe0a96sEIlw",
        "colab": {
          "base_uri": "https://localhost:8080/"
        },
        "outputId": "cdc82408-33a2-42af-ea23-bb9f5051ef44"
      },
      "source": [
        "print(y)"
      ],
      "execution_count": 587,
      "outputs": [
        {
          "output_type": "stream",
          "text": [
            "[1 1 1 0 0 0 0 1 1 0]\n"
          ],
          "name": "stdout"
        }
      ]
    },
    {
      "cell_type": "code",
      "metadata": {
        "id": "2zZz_dyiEqKA"
      },
      "source": [
        "from sklearn.model_selection import train_test_split\n",
        "x_train, x_test, y_train, y_test = train_test_split(x, y, test_size = 0.1, random_state = 1)"
      ],
      "execution_count": 588,
      "outputs": []
    },
    {
      "cell_type": "code",
      "metadata": {
        "id": "exwJMd4yFNj7",
        "colab": {
          "base_uri": "https://localhost:8080/"
        },
        "outputId": "310a7e7e-d175-4fda-99bb-facad68bdf47"
      },
      "source": [
        "print(x_train)"
      ],
      "execution_count": 589,
      "outputs": [
        {
          "output_type": "stream",
          "text": [
            "[[0.0 1.0 0.0 0.0 0.0 0.0 0.0 0.0 35.0 67000.0]\n",
            " [0.0 0.0 0.0 0.0 0.0 0.0 1.0 0.0 28.0 52000.0]\n",
            " [0.0 0.0 0.0 0.0 0.0 0.0 0.0 1.0 31.0 45000.0]\n",
            " [0.0 0.0 1.0 0.0 0.0 0.0 0.0 0.0 27.0 72000.0]\n",
            " [0.0 0.0 0.0 0.0 1.0 0.0 0.0 0.0 32.0 61000.0]\n",
            " [0.0 1.0 0.0 0.0 0.0 0.0 0.0 0.0 29.0 48000.0]\n",
            " [1.0 0.0 0.0 0.0 0.0 0.0 0.0 0.0 28.0 79000.0]\n",
            " [0.0 0.0 0.0 1.0 0.0 0.0 0.0 0.0 42.0 83000.0]\n",
            " [0.0 0.0 0.0 0.0 0.0 1.0 0.0 0.0 25.0 50000.0]]\n"
          ],
          "name": "stdout"
        }
      ]
    },
    {
      "cell_type": "code",
      "metadata": {
        "id": "cVxuCRtVFqXX",
        "colab": {
          "base_uri": "https://localhost:8080/"
        },
        "outputId": "f4939276-aadd-471f-b58f-7c31536122ef"
      },
      "source": [
        "print(x_test)"
      ],
      "execution_count": 590,
      "outputs": [
        {
          "output_type": "stream",
          "text": [
            "[[0.0 0.0 0.0 1.0 0.0 0.0 0.0 0.0 30.0 54000.0]]\n"
          ],
          "name": "stdout"
        }
      ]
    },
    {
      "cell_type": "code",
      "metadata": {
        "id": "IjnskpAkFxox",
        "colab": {
          "base_uri": "https://localhost:8080/"
        },
        "outputId": "d01be729-af75-4e52-e775-0b6c90aaac81"
      },
      "source": [
        "print(y_train)"
      ],
      "execution_count": 591,
      "outputs": [
        {
          "output_type": "stream",
          "text": [
            "[0 0 0 1 0 1 1 1 0]\n"
          ],
          "name": "stdout"
        }
      ]
    },
    {
      "cell_type": "code",
      "metadata": {
        "id": "Os4KTe54FzlD",
        "colab": {
          "base_uri": "https://localhost:8080/"
        },
        "outputId": "b95f422b-f4f8-439a-e12a-6a8bf5157d37"
      },
      "source": [
        "print(y_test)"
      ],
      "execution_count": 592,
      "outputs": [
        {
          "output_type": "stream",
          "text": [
            "[1]\n"
          ],
          "name": "stdout"
        }
      ]
    },
    {
      "cell_type": "code",
      "metadata": {
        "id": "G6JaDkDBHzbC"
      },
      "source": [
        "from sklearn.preprocessing import StandardScaler\n",
        "sc = StandardScaler()\n",
        "x_train[:, 3:] = sc.fit_transform(x_train[:, 3:])\n",
        "x_test[:, 3:] = sc.fit_transform(x_test[:, 3:])"
      ],
      "execution_count": 593,
      "outputs": []
    },
    {
      "cell_type": "code",
      "metadata": {
        "id": "c_Upjd73Ij5o",
        "colab": {
          "base_uri": "https://localhost:8080/"
        },
        "outputId": "c5aa4783-1403-4ab4-98f4-84906512b3ae"
      },
      "source": [
        "print(x_train)"
      ],
      "execution_count": 594,
      "outputs": [
        {
          "output_type": "stream",
          "text": [
            "[[0.0 1.0 0.0 -0.3535533905932738 -0.35355339059327373\n",
            "  -0.3535533905932738 -0.3535533905932736 -0.35355339059327373\n",
            "  0.8708635721768005 0.38515644241971186]\n",
            " [0.0 0.0 0.0 -0.3535533905932738 -0.35355339059327373\n",
            "  -0.3535533905932738 2.828427124746189 -0.35355339059327373\n",
            "  -0.5729365606426322 -0.7451939864207472]\n",
            " [0.0 0.0 0.0 -0.3535533905932738 -0.35355339059327373\n",
            "  -0.3535533905932738 -0.3535533905932736 2.82842712474619\n",
            "  0.0458349248514104 -1.2726908532129615]\n",
            " [0.0 0.0 1.0 -0.3535533905932738 -0.35355339059327373\n",
            "  -0.3535533905932738 -0.3535533905932736 -0.35355339059327373\n",
            "  -0.7791937224739798 0.7619399186998649]\n",
            " [0.0 0.0 0.0 -0.3535533905932738 2.82842712474619 -0.3535533905932738\n",
            "  -0.3535533905932736 -0.35355339059327373 0.25209208668275795\n",
            "  -0.06698372911647177]\n",
            " [0.0 1.0 0.0 -0.3535533905932738 -0.35355339059327373\n",
            "  -0.3535533905932738 -0.3535533905932736 -0.35355339059327373\n",
            "  -0.36667939881128464 -1.0466207674448695]\n",
            " [1.0 0.0 0.0 -0.3535533905932738 -0.35355339059327373\n",
            "  -0.3535533905932738 -0.3535533905932736 -0.35355339059327373\n",
            "  -0.5729365606426322 1.289436785492079]\n",
            " [0.0 0.0 0.0 2.8284271247461903 -0.35355339059327373 -0.3535533905932738\n",
            "  -0.3535533905932736 -0.35355339059327373 2.3146637049962333\n",
            "  1.5908635665162014]\n",
            " [0.0 0.0 0.0 -0.3535533905932738 -0.35355339059327373 2.8284271247461903\n",
            "  -0.3535533905932736 -0.35355339059327373 -1.1917080461366747\n",
            "  -0.8959073769328084]]\n"
          ],
          "name": "stdout"
        }
      ]
    },
    {
      "cell_type": "code",
      "metadata": {
        "id": "TjGnUvW7JwIj",
        "colab": {
          "base_uri": "https://localhost:8080/"
        },
        "outputId": "0e76a43c-729d-47c4-da66-3f2843c56fb3"
      },
      "source": [
        "print(x_test)"
      ],
      "execution_count": 595,
      "outputs": [
        {
          "output_type": "stream",
          "text": [
            "[[0.0 0.0 0.0 0.0 0.0 0.0 0.0 0.0 0.0 0.0]]\n"
          ],
          "name": "stdout"
        }
      ]
    }
  ]
}